{
 "cells": [
  {
   "cell_type": "markdown",
   "metadata": {},
   "source": [
    "# How to integrate Financial Data from Refinitiv Data Platform to Excel with Xlwings - Part 1\n",
    "\n",
    "## Overview\n",
    "\n",
    "With rise of Data Scientist, Financial coder or Trader (aka Citizen Developers) and rapid growth of [Jupyter](https://jupyter.org/) application, the main target of every Citizen Developers are replace [Excel](https://www.microsoft.com/en-us/microsoft-365/excel) with Jupyter (reference: [Jupyter is the new Excel](https://towardsdatascience.com/jupyter-is-the-new-excel-a7a22f2fc13a)). \n",
    "\n",
    "However, Excel is not obsolete and still important file format/application in the business. It is easy to distribute, non-IT people (especially your boss) can open it easily than setup Jupyter/Python environment. \n",
    "\n",
    "This notebook is the first part of the series that demonstrate how to export financial data and report from Python/Jupyter application to Excel using xlwings CE and xlwings Pro libraries. to create an excel report file. The application uses content from [Refinitiv Data Platform (RDP)](https://developers.refinitiv.com/refinitiv-data-platform/refinitiv-data-platform-apis) as an example data.\n",
    "\n",
    "The first notebook will be focusing on xlwings CE."
   ]
  },
  {
   "cell_type": "markdown",
   "metadata": {},
   "source": [
    "## Introduction to xlwings\n",
    "\n",
    "[xlwings](https://www.xlwings.org) is a Python library that makes it easy to call Python from Excel and vice versa. The library let you automate Excel from Python source code to produce reports or to interact with Jupyter notebook applications, replacing VBA macros with Python Code, write UDFs (user defined functions - Windows only) and remote control Excel via the REST API.\n",
    "* The [xlwings CE](https://docs.xlwings.org/en/stable) is a free and open-source library([BSD-licensed](https://opensource.org/licenses/BSD-3-Clause)) which provides basic functionalities to lets developers integrate Python with Excel. \n",
    "* The [xlwings PRO](https://www.xlwings.org/pro) provides more advance features such as [reports](https://www.xlwings.org/reporting), embedded Python code in Excel, video training, dedicate support channel and much more. \n"
   ]
  },
  {
   "cell_type": "markdown",
   "metadata": {},
   "source": [
    "## Introduction to Refinitiv Data Platform (RDP) Libraries\n",
    "\n",
    "Refinitiv provides wide range of contents and data which require multiple technologies, delivery mechanisms, data formats and also the multiple APIs to access each content. The [RDP Libraries](https://developers.refinitiv.com/en/api-catalog/refinitiv-data-platform/refinitiv-data-platform-libraries) are suite of ease-of-use interfaces providing unified access to streaming and non-streaming data services offered within the [Refinitiv Data Platform (RDP)](https://developers.refinitiv.com/en/api-catalog/refinitiv-data-platform/refinitiv-data-platform-apis). The Libraries simplified how to access data to various delivery modes such as Request Response, Streaming, Bulk File and Queues via a single library. \n",
    "\n",
    "Depending on the level of service and data requirements, developers can easily choose how to access data services using the appropriate access channel defined within the library.\n",
    "\n",
    "![Figure-1](images/rdp_libraries_1.png \"RDP Libraries Diagram\") \n",
    "\n",
    "Using the library developers can access content from all 3 of the access points - all from within the same application if required. The RDP Libraries are available in the following programming languages:\n",
    "- Refinitiv Supported Editions: Python and TypeScript/JavaScript (coming in 2020)\n",
    "- Community-based Edition: C#\n",
    "\n",
    "For more deep detail regarding the RDP Libraries, please refer to the following articles and tutorials:\n",
    "- [Developer Article: Discover our Refinitiv Data Platform Library part 1](https://developers.refinitiv.com/article/discover-our-upcoming-refinitiv-data-platform-library-part-1).\n",
    "- [Developer Article: Discover our Refinitiv Data Platform Library part 2](https://developers.refinitiv.com/article/discover-our-upcoming-refinitiv-data-platform-library-part-2-0).\n",
    "- [Refinitiv Data Platform Libraries Document: An Introduction page](https://developers.refinitiv.com/refinitiv-data-platform/refinitiv-data-platform-libraries/docs?content=62446&type=documentation_item).\n",
    "\n",
    "### Disclaimer\n",
    "\n",
    "As these articles are based on alpha version 1.0.0.a5 of the Python library, the method signatures, data formats etc are subject to change.\n",
    "\n",
    "## Code Walkthrough\n",
    "\n",
    "Let start with xlwings CE first. The application needs to import ```xlwings``` and ```refinitiv.dataplatform``` packages in order to interact with xlwing CE and RDP library."
   ]
  },
  {
   "cell_type": "code",
   "execution_count": 21,
   "metadata": {},
   "outputs": [],
   "source": [
    "# import xlwings and RDP libraries\n",
    "import xlwings as xw\n",
    "import refinitiv.dataplatform as rdp"
   ]
  },
  {
   "cell_type": "code",
   "execution_count": 22,
   "metadata": {},
   "outputs": [],
   "source": [
    "# import all required libraries for this notebook\n",
    "import datetime\n",
    "import configparser as cp\n",
    "import numpy as np\n",
    "import pandas as pd\n",
    "import matplotlib.pyplot as plt\n",
    "import matplotlib\n",
    "import matplotlib.ticker as tick\n",
    "import json"
   ]
  },
  {
   "cell_type": "markdown",
   "metadata": {},
   "source": [
    "You should save a text file with **filename** `rdp.cfg` having the following contents:\n",
    "\n",
    "    [rdp]\n",
    "    username = YOUR_RDP_EMAIL_USERNAME\n",
    "    password = YOUR_RDP_PASSWORD\n",
    "    app_key = YOUR_RDP_APP_KEY\n",
    "    \n",
    "This file should be readily availble (e.g. in the current working directory) for the next steps."
   ]
  },
  {
   "cell_type": "code",
   "execution_count": 23,
   "metadata": {},
   "outputs": [
    {
     "data": {
      "text/plain": [
       "['rdp.cfg']"
      ]
     },
     "execution_count": 23,
     "metadata": {},
     "output_type": "execute_result"
    }
   ],
   "source": [
    "cfg = cp.ConfigParser()\n",
    "cfg.read('rdp.cfg')"
   ]
  },
  {
   "cell_type": "markdown",
   "metadata": {},
   "source": [
    "The RDP Libraries let application consumes data from the following platforms\n",
    "- DesktopSession (Eikon/Refinitiv Workspace)\n",
    "- PlatformSession (RDP, Refinitiv Real-Time Optimized)\n",
    "- DeployedPlatformSession (deployed Refinitiv Real-Time/ADS)\n",
    "\n",
    "This Jupyter Notebook is focusing on the *PlatformSession* only. However, the main logic for other session types are the same when interacts with xlwings library."
   ]
  },
  {
   "cell_type": "code",
   "execution_count": 24,
   "metadata": {},
   "outputs": [
    {
     "data": {
      "text/plain": [
       "<State.Open: 3>"
      ]
     },
     "execution_count": 24,
     "metadata": {},
     "output_type": "execute_result"
    }
   ],
   "source": [
    "# Open RDP Platform Session\n",
    "session = rdp.open_platform_session(\n",
    "    cfg['rdp']['app_key'], \n",
    "    rdp.GrantPassword(\n",
    "        username = cfg['rdp']['username'], \n",
    "        password = cfg['rdp']['password']\n",
    "    )\n",
    ")\n",
    "session.get_open_state()"
   ]
  },
  {
   "cell_type": "markdown",
   "metadata": {},
   "source": [
    "Firstly, we will use RDP Libraries Function Layer to request time-series data as a [Pandas DataFrame](https://pandas.pydata.org/pandas-docs/stable/reference/api/pandas.DataFrame.html) object. "
   ]
  },
  {
   "cell_type": "code",
   "execution_count": 25,
   "metadata": {},
   "outputs": [],
   "source": [
    "# Declare parameter(s)\n",
    "universe = 'VOD.L'\n",
    "historical_title = '%s Historical Data' % (universe)"
   ]
  },
  {
   "cell_type": "code",
   "execution_count": 26,
   "metadata": {},
   "outputs": [
    {
     "data": {
      "text/html": [
       "<div>\n",
       "<style scoped>\n",
       "    .dataframe tbody tr th:only-of-type {\n",
       "        vertical-align: middle;\n",
       "    }\n",
       "\n",
       "    .dataframe tbody tr th {\n",
       "        vertical-align: top;\n",
       "    }\n",
       "\n",
       "    .dataframe thead th {\n",
       "        text-align: right;\n",
       "    }\n",
       "</style>\n",
       "<table border=\"1\" class=\"dataframe\">\n",
       "  <thead>\n",
       "    <tr style=\"text-align: right;\">\n",
       "      <th></th>\n",
       "      <th>BID</th>\n",
       "      <th>ASK</th>\n",
       "      <th>OPEN_PRC</th>\n",
       "      <th>HIGH_1</th>\n",
       "      <th>LOW_1</th>\n",
       "      <th>TRDPRC_1</th>\n",
       "      <th>NUM_MOVES</th>\n",
       "    </tr>\n",
       "  </thead>\n",
       "  <tbody>\n",
       "    <tr>\n",
       "      <th>2020-06-09</th>\n",
       "      <td>138.94</td>\n",
       "      <td>139</td>\n",
       "      <td>140.52</td>\n",
       "      <td>141.66</td>\n",
       "      <td>138.3</td>\n",
       "      <td>139.6717</td>\n",
       "      <td>16127</td>\n",
       "    </tr>\n",
       "    <tr>\n",
       "      <th>2020-06-10</th>\n",
       "      <td>136.26</td>\n",
       "      <td>136.28</td>\n",
       "      <td>138.02</td>\n",
       "      <td>138.64</td>\n",
       "      <td>135.28</td>\n",
       "      <td>136.7481</td>\n",
       "      <td>18794</td>\n",
       "    </tr>\n",
       "    <tr>\n",
       "      <th>2020-06-11</th>\n",
       "      <td>125.84</td>\n",
       "      <td>125.94</td>\n",
       "      <td>131.48</td>\n",
       "      <td>132.38</td>\n",
       "      <td>125.94</td>\n",
       "      <td>126.6638</td>\n",
       "      <td>19040</td>\n",
       "    </tr>\n",
       "    <tr>\n",
       "      <th>2020-06-12</th>\n",
       "      <td>126.08</td>\n",
       "      <td>126.1</td>\n",
       "      <td>124.66</td>\n",
       "      <td>127.9</td>\n",
       "      <td>122.24</td>\n",
       "      <td>126.1</td>\n",
       "      <td>16595</td>\n",
       "    </tr>\n",
       "    <tr>\n",
       "      <th>2020-06-15</th>\n",
       "      <td>124.44</td>\n",
       "      <td>124.46</td>\n",
       "      <td>123.76</td>\n",
       "      <td>125.06</td>\n",
       "      <td>122.7</td>\n",
       "      <td>124.46</td>\n",
       "      <td>13748</td>\n",
       "    </tr>\n",
       "    <tr>\n",
       "      <th>...</th>\n",
       "      <td>...</td>\n",
       "      <td>...</td>\n",
       "      <td>...</td>\n",
       "      <td>...</td>\n",
       "      <td>...</td>\n",
       "      <td>...</td>\n",
       "      <td>...</td>\n",
       "    </tr>\n",
       "    <tr>\n",
       "      <th>2020-10-07</th>\n",
       "      <td>109.12</td>\n",
       "      <td>109.16</td>\n",
       "      <td>110.7</td>\n",
       "      <td>110.98</td>\n",
       "      <td>108.78</td>\n",
       "      <td>109.61951</td>\n",
       "      <td>10070</td>\n",
       "    </tr>\n",
       "    <tr>\n",
       "      <th>2020-10-08</th>\n",
       "      <td>111.22</td>\n",
       "      <td>111.24</td>\n",
       "      <td>109.36</td>\n",
       "      <td>112.54</td>\n",
       "      <td>108.96</td>\n",
       "      <td>111.76</td>\n",
       "      <td>11804</td>\n",
       "    </tr>\n",
       "    <tr>\n",
       "      <th>2020-10-09</th>\n",
       "      <td>111.16</td>\n",
       "      <td>111.18</td>\n",
       "      <td>111.86</td>\n",
       "      <td>111.92</td>\n",
       "      <td>110.54</td>\n",
       "      <td>111.5405</td>\n",
       "      <td>7216</td>\n",
       "    </tr>\n",
       "    <tr>\n",
       "      <th>2020-10-12</th>\n",
       "      <td>111.84</td>\n",
       "      <td>111.86</td>\n",
       "      <td>111.68</td>\n",
       "      <td>113.4</td>\n",
       "      <td>111.5</td>\n",
       "      <td>112.3</td>\n",
       "      <td>9166</td>\n",
       "    </tr>\n",
       "    <tr>\n",
       "      <th>2020-10-13</th>\n",
       "      <td>111.98</td>\n",
       "      <td>112</td>\n",
       "      <td>112.74</td>\n",
       "      <td>113.52</td>\n",
       "      <td>111.48</td>\n",
       "      <td>112.74</td>\n",
       "      <td>11469</td>\n",
       "    </tr>\n",
       "  </tbody>\n",
       "</table>\n",
       "<p>90 rows × 7 columns</p>\n",
       "</div>"
      ],
      "text/plain": [
       "               BID     ASK OPEN_PRC  HIGH_1   LOW_1   TRDPRC_1 NUM_MOVES\n",
       "2020-06-09  138.94     139   140.52  141.66   138.3   139.6717     16127\n",
       "2020-06-10  136.26  136.28   138.02  138.64  135.28   136.7481     18794\n",
       "2020-06-11  125.84  125.94   131.48  132.38  125.94   126.6638     19040\n",
       "2020-06-12  126.08   126.1   124.66   127.9  122.24      126.1     16595\n",
       "2020-06-15  124.44  124.46   123.76  125.06   122.7     124.46     13748\n",
       "...            ...     ...      ...     ...     ...        ...       ...\n",
       "2020-10-07  109.12  109.16    110.7  110.98  108.78  109.61951     10070\n",
       "2020-10-08  111.22  111.24   109.36  112.54  108.96     111.76     11804\n",
       "2020-10-09  111.16  111.18   111.86  111.92  110.54   111.5405      7216\n",
       "2020-10-12  111.84  111.86   111.68   113.4   111.5      112.3      9166\n",
       "2020-10-13  111.98     112   112.74  113.52  111.48     112.74     11469\n",
       "\n",
       "[90 rows x 7 columns]"
      ]
     },
     "execution_count": 26,
     "metadata": {},
     "output_type": "execute_result"
    }
   ],
   "source": [
    "df_historical = rdp.get_historical_price_summaries(\n",
    "    universe = universe,\n",
    "    interval = rdp.Intervals.DAILY,\n",
    "    count = 90,\n",
    "    fields = ['BID','ASK','OPEN_PRC','HIGH_1','LOW_1','TRDPRC_1','NUM_MOVES']\n",
    "    )\n",
    "df_historical"
   ]
  },
  {
   "cell_type": "markdown",
   "metadata": {},
   "source": [
    "### Interact with xlwings CE\n",
    "\n",
    "With xlwings, we can export this ```df_historical``` DataFrame to excel directly.\n",
    "\n",
    "The first step is initiate xlwings object and establish a connection to a workbook."
   ]
  },
  {
   "cell_type": "code",
   "execution_count": 27,
   "metadata": {},
   "outputs": [],
   "source": [
    "wb = xw.Book() # Creating an new excel file. wb = xw.Book(filename) would open an existing file"
   ]
  },
  {
   "cell_type": "markdown",
   "metadata": {},
   "source": [
    "The above step initiates xlwings workbook class in ```wb``` object. The ```wb = xw.Book()``` statment creates a new excel file. If you are using ```wb = xw.Book(filename)```, the xlwings will open an existing file.\n",
    "\n",
    "![Figure-2](images/report_1.png \"create a blank excel workbook\") \n",
    "\n",
    "Next, instantiate a sheet object:"
   ]
  },
  {
   "cell_type": "code",
   "execution_count": 28,
   "metadata": {},
   "outputs": [],
   "source": [
    "# Select the first excel sheet, and rename it\n",
    "\n",
    "historical_sheet = wb.sheets[0]\n",
    "historical_sheet.name = historical_title"
   ]
  },
  {
   "cell_type": "markdown",
   "metadata": {},
   "source": [
    "\n",
    "![Figure-3](images/report_2_rename_sheet.png \"rename workbook\") "
   ]
  },
  {
   "cell_type": "markdown",
   "metadata": {},
   "source": [
    "Then you can just pass your dataframe object to ```sheet.range(<cell>).value``` property to set Pandas DataFrame to excel directly."
   ]
  },
  {
   "cell_type": "code",
   "execution_count": 29,
   "metadata": {},
   "outputs": [],
   "source": [
    "# Set historical_sheet dataframe to cell A1\n",
    "\n",
    "historical_sheet.range(\"A1\").value = df_historical.head(30)"
   ]
  },
  {
   "cell_type": "markdown",
   "metadata": {},
   "source": [
    "\n",
    "![Figure-4](images/report_3_dataframe.png \"add data as is\") \n",
    "Note: This figure demonstrates time-series data from 8th October 2020 back to 3rd March 2020"
   ]
  },
  {
   "cell_type": "markdown",
   "metadata": {},
   "source": [
    "That is, the application is ready to get and export Refinitiv Data to excel file.\n",
    "\n",
    "The above example show how to export data \"as is\" which often hard to read. The application can use xlwings API to customize excel report look and feel along side and customize Pandas DataFrame to make data more easy to understand."
   ]
  },
  {
   "cell_type": "code",
   "execution_count": 30,
   "metadata": {},
   "outputs": [],
   "source": [
    "# Clear current sheet\n",
    "historical_sheet.clear()"
   ]
  },
  {
   "cell_type": "markdown",
   "metadata": {},
   "source": [
    "Then we use xlwings ```Sheet``` object and its ```api``` property to change report look and feel.\n",
    "\n",
    "*Note*:\n",
    "The xlwing ```api``` property supports Windows only. For MacOS, please refer to [this page](https://docs.xlwings.org/en/stable/missing_features.html)."
   ]
  },
  {
   "cell_type": "code",
   "execution_count": 31,
   "metadata": {},
   "outputs": [],
   "source": [
    "historical_sheet.range(\"A1\").value = historical_title\n",
    "historical_sheet.range(\"A1\").api.Font.Size = 14 # Change font color\n",
    "historical_sheet.range(\"A1\").api.Font.ColorIndex = 2 # Change font color\n",
    "historical_sheet.range('A1:H1').color = (0,0,255) # Change cell background color"
   ]
  },
  {
   "cell_type": "markdown",
   "metadata": {},
   "source": [
    "The above statmens create the following excel  report look and feel.\n",
    "\n",
    "![Figure-5](images/report_4.png \"set title and header\") \n",
    "\n",
    "Next, we re-stucture ```df_historical``` DataFrame to make it easier to read by naming the index column to \"Date\""
   ]
  },
  {
   "cell_type": "code",
   "execution_count": 32,
   "metadata": {},
   "outputs": [
    {
     "data": {
      "text/html": [
       "<div>\n",
       "<style scoped>\n",
       "    .dataframe tbody tr th:only-of-type {\n",
       "        vertical-align: middle;\n",
       "    }\n",
       "\n",
       "    .dataframe tbody tr th {\n",
       "        vertical-align: top;\n",
       "    }\n",
       "\n",
       "    .dataframe thead th {\n",
       "        text-align: right;\n",
       "    }\n",
       "</style>\n",
       "<table border=\"1\" class=\"dataframe\">\n",
       "  <thead>\n",
       "    <tr style=\"text-align: right;\">\n",
       "      <th></th>\n",
       "      <th>BID</th>\n",
       "      <th>ASK</th>\n",
       "      <th>OPEN_PRC</th>\n",
       "      <th>HIGH_1</th>\n",
       "      <th>LOW_1</th>\n",
       "      <th>TRDPRC_1</th>\n",
       "      <th>NUM_MOVES</th>\n",
       "    </tr>\n",
       "    <tr>\n",
       "      <th>Date</th>\n",
       "      <th></th>\n",
       "      <th></th>\n",
       "      <th></th>\n",
       "      <th></th>\n",
       "      <th></th>\n",
       "      <th></th>\n",
       "      <th></th>\n",
       "    </tr>\n",
       "  </thead>\n",
       "  <tbody>\n",
       "    <tr>\n",
       "      <th>2020-06-09</th>\n",
       "      <td>138.94</td>\n",
       "      <td>139</td>\n",
       "      <td>140.52</td>\n",
       "      <td>141.66</td>\n",
       "      <td>138.3</td>\n",
       "      <td>139.6717</td>\n",
       "      <td>16127</td>\n",
       "    </tr>\n",
       "    <tr>\n",
       "      <th>2020-06-10</th>\n",
       "      <td>136.26</td>\n",
       "      <td>136.28</td>\n",
       "      <td>138.02</td>\n",
       "      <td>138.64</td>\n",
       "      <td>135.28</td>\n",
       "      <td>136.7481</td>\n",
       "      <td>18794</td>\n",
       "    </tr>\n",
       "    <tr>\n",
       "      <th>2020-06-11</th>\n",
       "      <td>125.84</td>\n",
       "      <td>125.94</td>\n",
       "      <td>131.48</td>\n",
       "      <td>132.38</td>\n",
       "      <td>125.94</td>\n",
       "      <td>126.6638</td>\n",
       "      <td>19040</td>\n",
       "    </tr>\n",
       "    <tr>\n",
       "      <th>2020-06-12</th>\n",
       "      <td>126.08</td>\n",
       "      <td>126.1</td>\n",
       "      <td>124.66</td>\n",
       "      <td>127.9</td>\n",
       "      <td>122.24</td>\n",
       "      <td>126.1</td>\n",
       "      <td>16595</td>\n",
       "    </tr>\n",
       "    <tr>\n",
       "      <th>2020-06-15</th>\n",
       "      <td>124.44</td>\n",
       "      <td>124.46</td>\n",
       "      <td>123.76</td>\n",
       "      <td>125.06</td>\n",
       "      <td>122.7</td>\n",
       "      <td>124.46</td>\n",
       "      <td>13748</td>\n",
       "    </tr>\n",
       "  </tbody>\n",
       "</table>\n",
       "</div>"
      ],
      "text/plain": [
       "               BID     ASK OPEN_PRC  HIGH_1   LOW_1  TRDPRC_1 NUM_MOVES\n",
       "Date                                                                   \n",
       "2020-06-09  138.94     139   140.52  141.66   138.3  139.6717     16127\n",
       "2020-06-10  136.26  136.28   138.02  138.64  135.28  136.7481     18794\n",
       "2020-06-11  125.84  125.94   131.48  132.38  125.94  126.6638     19040\n",
       "2020-06-12  126.08   126.1   124.66   127.9  122.24     126.1     16595\n",
       "2020-06-15  124.44  124.46   123.76  125.06   122.7    124.46     13748"
      ]
     },
     "execution_count": 32,
     "metadata": {},
     "output_type": "execute_result"
    }
   ],
   "source": [
    "df_historical.index.name = 'Date'\n",
    "df_historical.head(5)"
   ]
  },
  {
   "cell_type": "markdown",
   "metadata": {},
   "source": [
    "Next, we set the DataFrame object to *A2* cell, then set column header font and background color to make them distinguish from data."
   ]
  },
  {
   "cell_type": "code",
   "execution_count": 33,
   "metadata": {},
   "outputs": [],
   "source": [
    "historical_sheet.range(\"A2\").value = df_historical.head(30)\n",
    "\n",
    "#Make Column headers bold\n",
    "historical_sheet.range('2:1').api.Font.Bold = True\n",
    "# Change cell background color\n",
    "historical_sheet.range('A2:H2').color = (144,238,144) \n",
    "# Set sheet autofit the width of row\n",
    "historical_sheet.autofit('r')"
   ]
  },
  {
   "cell_type": "markdown",
   "metadata": {},
   "source": [
    "The result is the following readable report table:\n",
    "\n",
    "![Figure-6](images/report_5.png \"workbook with format\") \n",
    "Note: This figure demonstrates time-series data from 8th October 2020 back to 3rd March 2020"
   ]
  },
  {
   "cell_type": "markdown",
   "metadata": {},
   "source": [
    "## Ploting a Graph\n",
    "\n",
    "The xlwings CE also supports [Matplotlib](https://matplotlib.org/) figures in Excel as a picture.\n",
    "\n",
    "Firstly, we change all non-Date columns data type from String to Float."
   ]
  },
  {
   "cell_type": "code",
   "execution_count": 34,
   "metadata": {
    "scrolled": true
   },
   "outputs": [],
   "source": [
    "for column in df_historical:\n",
    "    df_historical[column]=df_historical[column].astype(float)"
   ]
  },
  {
   "cell_type": "markdown",
   "metadata": {},
   "source": [
    " we change the DataFrame Date index to be a data column. This will let us plot a graph using **Date** as X-Axis."
   ]
  },
  {
   "cell_type": "code",
   "execution_count": 35,
   "metadata": {},
   "outputs": [
    {
     "data": {
      "text/html": [
       "<div>\n",
       "<style scoped>\n",
       "    .dataframe tbody tr th:only-of-type {\n",
       "        vertical-align: middle;\n",
       "    }\n",
       "\n",
       "    .dataframe tbody tr th {\n",
       "        vertical-align: top;\n",
       "    }\n",
       "\n",
       "    .dataframe thead th {\n",
       "        text-align: right;\n",
       "    }\n",
       "</style>\n",
       "<table border=\"1\" class=\"dataframe\">\n",
       "  <thead>\n",
       "    <tr style=\"text-align: right;\">\n",
       "      <th></th>\n",
       "      <th>Date</th>\n",
       "      <th>BID</th>\n",
       "      <th>ASK</th>\n",
       "      <th>OPEN_PRC</th>\n",
       "      <th>HIGH_1</th>\n",
       "      <th>LOW_1</th>\n",
       "      <th>TRDPRC_1</th>\n",
       "      <th>NUM_MOVES</th>\n",
       "    </tr>\n",
       "  </thead>\n",
       "  <tbody>\n",
       "    <tr>\n",
       "      <th>0</th>\n",
       "      <td>2020-06-09</td>\n",
       "      <td>138.94</td>\n",
       "      <td>139.00</td>\n",
       "      <td>140.52</td>\n",
       "      <td>141.66</td>\n",
       "      <td>138.30</td>\n",
       "      <td>139.6717</td>\n",
       "      <td>16127.0</td>\n",
       "    </tr>\n",
       "    <tr>\n",
       "      <th>1</th>\n",
       "      <td>2020-06-10</td>\n",
       "      <td>136.26</td>\n",
       "      <td>136.28</td>\n",
       "      <td>138.02</td>\n",
       "      <td>138.64</td>\n",
       "      <td>135.28</td>\n",
       "      <td>136.7481</td>\n",
       "      <td>18794.0</td>\n",
       "    </tr>\n",
       "    <tr>\n",
       "      <th>2</th>\n",
       "      <td>2020-06-11</td>\n",
       "      <td>125.84</td>\n",
       "      <td>125.94</td>\n",
       "      <td>131.48</td>\n",
       "      <td>132.38</td>\n",
       "      <td>125.94</td>\n",
       "      <td>126.6638</td>\n",
       "      <td>19040.0</td>\n",
       "    </tr>\n",
       "    <tr>\n",
       "      <th>3</th>\n",
       "      <td>2020-06-12</td>\n",
       "      <td>126.08</td>\n",
       "      <td>126.10</td>\n",
       "      <td>124.66</td>\n",
       "      <td>127.90</td>\n",
       "      <td>122.24</td>\n",
       "      <td>126.1000</td>\n",
       "      <td>16595.0</td>\n",
       "    </tr>\n",
       "    <tr>\n",
       "      <th>4</th>\n",
       "      <td>2020-06-15</td>\n",
       "      <td>124.44</td>\n",
       "      <td>124.46</td>\n",
       "      <td>123.76</td>\n",
       "      <td>125.06</td>\n",
       "      <td>122.70</td>\n",
       "      <td>124.4600</td>\n",
       "      <td>13748.0</td>\n",
       "    </tr>\n",
       "  </tbody>\n",
       "</table>\n",
       "</div>"
      ],
      "text/plain": [
       "        Date     BID     ASK  OPEN_PRC  HIGH_1   LOW_1  TRDPRC_1  NUM_MOVES\n",
       "0 2020-06-09  138.94  139.00    140.52  141.66  138.30  139.6717    16127.0\n",
       "1 2020-06-10  136.26  136.28    138.02  138.64  135.28  136.7481    18794.0\n",
       "2 2020-06-11  125.84  125.94    131.48  132.38  125.94  126.6638    19040.0\n",
       "3 2020-06-12  126.08  126.10    124.66  127.90  122.24  126.1000    16595.0\n",
       "4 2020-06-15  124.44  124.46    123.76  125.06  122.70  124.4600    13748.0"
      ]
     },
     "execution_count": 35,
     "metadata": {},
     "output_type": "execute_result"
    }
   ],
   "source": [
    "df_historical.reset_index(level=0, inplace=True)\n",
    "df_historical.head(5)"
   ]
  },
  {
   "cell_type": "code",
   "execution_count": 36,
   "metadata": {},
   "outputs": [],
   "source": [
    "# Sort DataFrame by Date\n",
    "df_historical.sort_values('Date',ascending=True,inplace=True)"
   ]
  },
  {
   "cell_type": "code",
   "execution_count": 37,
   "metadata": {
    "scrolled": true
   },
   "outputs": [
    {
     "data": {
      "image/png": "[encoded data removed]",
      "text/plain": [
       "<Figure size 1008x504 with 1 Axes>"
      ]
     },
     "metadata": {
      "needs_background": "light"
     },
     "output_type": "display_data"
    }
   ],
   "source": [
    "# Plotting a Graph\n",
    "\n",
    "columns = ['OPEN_PRC','HIGH_1','LOW_1','TRDPRC_1']\n",
    "\n",
    "df_historical.set_index('Date',drop=True,inplace=True)\n",
    "fig = plt.figure()\n",
    "#Format Total Sale display unit as a graph footer.\n",
    "#fig.text(.5, -.05, 'Open High Low', ha='center',fontsize='large')\n",
    "\n",
    "# Create graph title from Company and RIC names dynamically.\n",
    "plt.ticklabel_format(style = 'plain')\n",
    "plt.title('VOD.L interday data for last 90 days', color='black',fontsize='x-large')\n",
    "ax = fig.gca()\n",
    "\n",
    "#df_historical.plot(x=\"Date\", y=columns,figsize=(14,7) )\n",
    "df_historical.plot(kind='line', ax = fig.gca(),y=columns,figsize=(14,7) )\n",
    "plt.show()"
   ]
  },
  {
   "cell_type": "markdown",
   "metadata": {},
   "source": [
    "We will put this grah at the end of report table in Excel sheet. The application can check the position of the last row of report table with xlwings [end()](https://docs.xlwings.org/en/0.20.5/api.html#xlwings.Range.end) function.\n",
    "\n",
    "- The ```sheet.cells.last_cell``` statement returns lower right cell\n",
    "- The ```sheet.cells.last_cell.row``` statement returns row of the lower right cell"
   ]
  },
  {
   "cell_type": "code",
   "execution_count": 39,
   "metadata": {},
   "outputs": [
    {
     "data": {
      "text/plain": [
       "32"
      ]
     },
     "execution_count": 39,
     "metadata": {},
     "output_type": "execute_result"
    }
   ],
   "source": [
    "# historical_sheet.cells.last_cell.row = row of the lower right cell\n",
    "\n",
    "'''\n",
    "change to your specified column, then go up untill you hit a non-empty cell\n",
    "'''\n",
    "historical_last_row = historical_sheet.range((historical_sheet.cells.last_cell.row, 1)).end('up').row  \n",
    "historical_last_row\n",
    "\n",
    "#historical_last_row = historical_sheet.range('A' + str(historical_sheet.cells.last_cell.row)).end('up').row"
   ]
  },
  {
   "cell_type": "markdown",
   "metadata": {},
   "source": [
    "Then, get the position of *last row of the table + 3 rows* cell. This makes a space between data table and graph."
   ]
  },
  {
   "cell_type": "code",
   "execution_count": 40,
   "metadata": {},
   "outputs": [
    {
     "data": {
      "text/plain": [
       "<Range [Book1]VOD.L Historical Data!$B$35>"
      ]
     },
     "execution_count": 40,
     "metadata": {},
     "output_type": "execute_result"
    }
   ],
   "source": [
    "rng = historical_sheet.range('B{row}'.format(row = historical_last_row + 3))\n",
    "rng"
   ]
  },
  {
   "cell_type": "markdown",
   "metadata": {},
   "source": [
    "Next, we add this figures as a picture to the xlwings CE sheet obect with [pictures API](https://docs.xlwings.org/en/0.20.5/api.html#pictures)."
   ]
  },
  {
   "cell_type": "code",
   "execution_count": 41,
   "metadata": {},
   "outputs": [
    {
     "data": {
      "text/plain": [
       "<Picture 'MyPlot' in <Sheet [Book1]VOD.L Historical Data>>"
      ]
     },
     "execution_count": 41,
     "metadata": {},
     "output_type": "execute_result"
    }
   ],
   "source": [
    "historical_sheet.pictures.add(fig, name='MyPlot', update=True, top=rng.top, left=rng.left)"
   ]
  },
  {
   "cell_type": "markdown",
   "metadata": {},
   "source": [
    "The result is the following readable report table:\n",
    "\n",
    "![Figure-7](images/report_6.png \"graph is ready\") "
   ]
  },
  {
   "cell_type": "markdown",
   "metadata": {},
   "source": [
    "We can create a new excel sheet and export data from RDP to that newly created sheet dynamically."
   ]
  },
  {
   "cell_type": "code",
   "execution_count": 42,
   "metadata": {
    "scrolled": true
   },
   "outputs": [
    {
     "data": {
      "text/plain": [
       "<Sheet [Book1]VOD.L ESG Data>"
      ]
     },
     "execution_count": 42,
     "metadata": {},
     "output_type": "execute_result"
    }
   ],
   "source": [
    "esg_sheet_title = '%s ESG Data' % (universe)\n",
    "# Create new sheet for ESG Data\n",
    "wb.sheets.add(esg_sheet_title)  "
   ]
  },
  {
   "cell_type": "markdown",
   "metadata": {},
   "source": [
    "The aboves xlwing statement creates a new sheet in your excel workbook. \n",
    "\n",
    "![Figure-8](images/report_7.png \"new sheet\") \n",
    "\n",
    "Then you can get this newly create sheet object and export data to it. I will demonstrate with Environment, Social and Governance data (ESG) using RDP Delivery Layer."
   ]
  },
  {
   "cell_type": "code",
   "execution_count": 43,
   "metadata": {},
   "outputs": [],
   "source": [
    "# -- Requesting ESG Data\n",
    "\n",
    "RDP_version = '/v1'\n",
    "base_URL = 'https://api.refinitiv.com'\n",
    "\n",
    "category_URL = '/data/environmental-social-governance'\n",
    "service_endpoint_URL = '/views/scores-full'\n",
    "\n",
    "query_parameters = {\n",
    "    'universe': universe,\n",
    "    'start': -5,\n",
    "    'end': 0\n",
    "}"
   ]
  },
  {
   "cell_type": "code",
   "execution_count": 44,
   "metadata": {},
   "outputs": [
    {
     "name": "stdout",
     "output_type": "stream",
     "text": [
      "This is a ESG data result from RDP library\n",
      "{'links': {'count': 6}, 'variability': 'variable', 'universe': [{'Instrument': 'VOD.L', 'Company Common Name': 'Vodafone Group PLC', 'Organization PermID': '4295896661', 'Reporting Currency': 'EUR'}], 'data': [['VOD.L', '2020-03-31', 44.88747570177, 82.0163307138848, 7.75862068965517, 70.9780764134787, 81.6693847197727, 90.978733378793, 81.6546762589928, 68.2835820895522, 61.8556701030927, 69.1176470588235, 91.9354838709677, 63.8235294117647, 93.167701863354, 98.9955357142857, 65.4017857142857, 89.2601431980906, 100, 'Grant Thornton UK LLP', '2020-09-18T00:00:00'], ['VOD.L', '2019-03-31', 46.7001752693279, 79.3652628193575, 14.0350877192982, 73.7984778671528, 84.3564939708211, 73.6229399178348, 88.6861313868613, 68.796992481203, 62.5, 78.6549707602339, 91.9354838709677, 64.6198830409356, 93.167701863354, 80.3769401330376, 41.2416851441241, 88.4248210023866, 100, 'Grant Thornton UK LLP', '2020-09-18T00:00:00'], ['VOD.L', '2018-03-31', 65.820888564213, 80.4513009379498, 51.1904761904761, 71.1667665183156, 85.6652701610405, 77.1125390511376, 89.3700787401574, 60.546875, 62.5, 80.6547619047619, 92.5438596491228, 65.7738095238095, 94.5859872611465, 84.8519362186788, 42.9384965831435, 89.6766169154228, 100, 'KPMG LLP', '2020-09-18T00:00:00'], ['VOD.L', '2017-03-31', 45.3217830618401, 83.8868093669234, 6.75675675675675, 70.9244492769843, 85.9499277557976, 89.6869202226345, 88.8429752066115, 59.4262295081967, 63.5869565217391, 92.2839506172839, 92.5742574257425, 48.4567901234567, 95.0980392156862, 89.6683673469387, 91.9642857142857, 86.3636363636363, 100, 'KPMG LLP', '2020-09-18T00:00:00'], ['VOD.L', '2016-03-31', 80.8767419330636, 80.8767419330636, 87.8787878787878, 69.2961192038252, 85.2089025707489, 81.0668305243445, 88.2608695652173, 54.3478260869565, 64.7058823529411, 90.5844155844155, 94.8275862068965, 45.1298701298701, 93.9716312056737, 76.171875, 93.75, 86.5168539325842, 100, 'Ernst & Young LLP', '2020-09-18T00:00:00'], ['VOD.L', '2015-03-31', 45.1581274976651, 88.2329216619968, 2.08333333333333, 72.6153611312175, 92.5168463486132, 91.6147357807691, 88.9380530973451, 60.2678571428571, 68.0722891566265, 88.9285714285714, 95.2941176470588, 88.9285714285714, 95.0381679389313, 94.6475195822454, 84.4647519582245, 87.1757925072046, 100, 'Ernst & Young LLP', '2020-09-18T00:00:00']], 'messages': {'codes': [[-1, -1, -1, -1, -1, -1, -1, -1, -1, -1, -1, -1, -1, -1, -1, -1, -1, -1, -1, -1, -1], [-1, -1, -1, -1, -1, -1, -1, -1, -1, -1, -1, -1, -1, -1, -1, -1, -1, -1, -1, -1, -1], [-1, -1, -1, -1, -1, -1, -1, -1, -1, -1, -1, -1, -1, -1, -1, -1, -1, -1, -1, -1, -1], [-1, -1, -1, -1, -1, -1, -1, -1, -1, -1, -1, -1, -1, -1, -1, -1, -1, -1, -1, -1, -1], [-1, -1, -1, -1, -1, -1, -1, -1, -1, -1, -1, -1, -1, -1, -1, -1, -1, -1, -1, -1, -1], [-1, -1, -1, -1, -1, -1, -1, -1, -1, -1, -1, -1, -1, -1, -1, -1, -1, -1, -1, -1, -1]], 'descriptions': [{'code': -1, 'description': 'ok'}]}, 'headers': [{'name': 'instrument', 'title': 'Instrument', 'type': 'string', 'description': 'The requested Instrument as defined by the user.'}, {'name': 'periodenddate', 'title': 'Period End Date', 'type': 'date', 'description': 'The last day of the financial period in question.'}, {'name': 'TR.TRESGCScore', 'title': 'ESG Combined Score', 'type': 'number', 'decimalChar': '.', 'description': 'Thomson Reuters ESG Combined Score is an overall company score based on the reported information in the environmental, social and corporate governance pillars (ESG Score) with an ESG Controversies overlay.'}, {'name': 'TR.TRESGScore', 'title': 'ESG Score', 'type': 'number', 'decimalChar': '.', 'description': 'Thomson Reuters ESG Score is an overall company score based on the self-reported information in the environmental, social and corporate governance pillars.'}, {'name': 'TR.TRESGCControversiesScore', 'title': 'ESG Controversies Score', 'type': 'number', 'decimalChar': '.', 'description': \"ESG controversies category score measures a company's exposure to environmental, social and governance controversies and negative events reflected in global media.\"}, {'name': 'TR.EnvironmentPillarScore', 'title': 'Environment Pillar Score', 'type': 'number', 'decimalChar': '.', 'description': \"The environmental pillar measures a company's impact on living and non-living natural systems, including the air, land and water, as well as complete ecosystems. It reflects how well a company uses best management practices to avoid environmental risks and capitalize on environmental opportunities in order to generate long term shareholder value.\"}, {'name': 'TR.SocialPillarScore', 'title': 'Social Pillar Score', 'type': 'number', 'decimalChar': '.', 'description': \"The social pillar measures a company's capacity to generate trust and loyalty with its workforce, customers and society, through its use of best management practices. It is a reflection of the company's reputation and the health of its license to operate, which are key factors in determining its ability to generate long term shareholder value.\"}, {'name': 'TR.GovernancePillarScore', 'title': 'Governance Pillar Score', 'type': 'number', 'decimalChar': '.', 'description': \"The corporate governance pillar measures a company's systems and processes, which ensure that its board members and executives act in the best interests of its long term shareholders. It reflects a company's capacity, through its use of best management practices, to direct and control its rights and responsibilities through the creation of incentives, as well as checks and balances in order to generate long term shareholder value.\"}, {'name': 'TR.TRESGResourceUseScore', 'title': 'Resource Use Score', 'type': 'number', 'decimalChar': '.', 'description': \"Resource use category score reflects a company's performance and capacity to reduce the use of materials, energy or water, and to find more eco-efficient solutions by improving supply chain management.\"}, {'name': 'TR.TRESGEmissionsScore', 'title': 'Emissions Score', 'type': 'number', 'decimalChar': '.', 'description': \"Emission category score measures a company's commitment and effectiveness towards reducing environmental emission in the production and operational processes.\"}, {'name': 'TR.TRESGInnovationScore', 'title': 'Innovation Score', 'type': 'number', 'decimalChar': '.', 'description': \"Environmental innovation category score reflects a company's capacity to reduce the environmental costs and burdens for its customers, and thereby creating new market opportunities through new environmental technologies and processes or eco-designed products.\"}, {'name': 'TR.TRESGWorkforceScore', 'title': 'Workforce Score', 'type': 'number', 'decimalChar': '.', 'description': \"Workforce category score measures a company's effectiveness towards job satisfaction, healthy and safe workplace, maintaining diversity and equal opportunities, and development opportunities for its workforce.\"}, {'name': 'TR.TRESGHumanRightsScore', 'title': 'Human Rights Score', 'type': 'number', 'decimalChar': '.', 'description': \"Human rights category score measures a company's effectiveness towards respecting the fundamental human rights conventions.\"}, {'name': 'TR.TRESGCommunityScore', 'title': 'Community Score', 'type': 'number', 'decimalChar': '.', 'description': \"Community category score measures the company's commitment towards being a good citizen, protecting public health and respecting business ethics.\"}, {'name': 'TR.TRESGProductResponsibilityScore', 'title': 'Product Responsibility Score', 'type': 'number', 'decimalChar': '.', 'description': \"Product responsibility category score reflects a company's capacity to produce quality goods and services integrating the customer's health and safety, integrity and data privacy.\"}, {'name': 'TR.TRESGManagementScore', 'title': 'Management Score', 'type': 'number', 'decimalChar': '.', 'description': \"Management category score measures a company's commitment and effectiveness towards following best practice corporate governance principles.\"}, {'name': 'TR.TRESGShareholdersScore', 'title': 'Shareholders Score', 'type': 'number', 'decimalChar': '.', 'description': \"Shareholders category score measures a company's effectiveness towards equal treatment of shareholders and the use of anti-takeover devices.\"}, {'name': 'TR.TRESGCSRStrategyScore', 'title': 'CSR Strategy Score', 'type': 'number', 'decimalChar': '.', 'description': \"CSR strategy category score reflects a company's practices to communicate that it integrates the economic (financial), social and environmental dimensions into its day-to-day decision-making processes.\"}, {'name': 'TR.CSRReportingScope', 'title': 'ESG Reporting Scope', 'type': 'number', 'decimalChar': '.', 'description': \"The percentage of the company’s activities covered in its Environmental and Social reporting.\\n- take scope as reported by the company\\n- data on the percentage of the company’s activities covered in its environmental and social reporting \\n- if extra financial reporting covers all of the company's global activities, then the scope is 100% \\n- if the scope is not provided, we need to determine using the priority order as follows: \\n (1) percentage of employees covered; \\n (2) percentage of revenue covered; or \\n (3) percentage of operations covered\\n- when we have 2 different scopes relating to social and environmental coverage, consider the lowest value\"}, {'name': 'TR.CSRReportingExternalAuditName', 'title': 'ESG Report Auditor Name', 'type': 'string', 'description': 'The name of the external auditor of the sustainability report.\\n- name of the audit firm or independent person who endorses the extra-financial audit statement \\n- name of the body reviewed such as university, academic, expert, external panel or a research center\\n- auditor statement on web-based extra financial or sustainability report with the name\\n- integrated annual report having which has audit statements on its environmental and social aspects and audit firm name\\n- data on partial CSR data verified by an external auditor (ex. emission/ employee health and safety/energy)'}, {'name': 'TR.ESGPeriodLastUpdateDate', 'title': 'ESG Period Last Update Date', 'type': 'datetime', 'description': 'The last update date for one or more ESG metrics for the period.'}]}\n",
      "\n",
      "\n"
     ]
    }
   ],
   "source": [
    "endpoint_url = base_URL + category_URL + RDP_version + service_endpoint_URL #https://api.refinitiv.com/data/environmental-social-governance/v1/views/scores-full\n",
    "try:\n",
    "    endpoint = rdp.Endpoint(session, endpoint_url)\n",
    "    response = endpoint.send_request( query_parameters = query_parameters )\n",
    "    print('This is a ESG data result from RDP library')\n",
    "    print(response.data.raw)\n",
    "except Exception as exp:\n",
    "\tprint('RDP Libraries: Delivery Layer exception: %s' % str(exp))\n",
    "\n",
    "print('\\n')"
   ]
  },
  {
   "cell_type": "markdown",
   "metadata": {},
   "source": [
    "The return data from RDP Delivery layer is in JSON message format, so you need to convert it to Pandas DataFrame first."
   ]
  },
  {
   "cell_type": "code",
   "execution_count": 45,
   "metadata": {},
   "outputs": [
    {
     "data": {
      "text/html": [
       "<div>\n",
       "<style scoped>\n",
       "    .dataframe tbody tr th:only-of-type {\n",
       "        vertical-align: middle;\n",
       "    }\n",
       "\n",
       "    .dataframe tbody tr th {\n",
       "        vertical-align: top;\n",
       "    }\n",
       "\n",
       "    .dataframe thead th {\n",
       "        text-align: right;\n",
       "    }\n",
       "</style>\n",
       "<table border=\"1\" class=\"dataframe\">\n",
       "  <thead>\n",
       "    <tr style=\"text-align: right;\">\n",
       "      <th></th>\n",
       "      <th>Instrument</th>\n",
       "      <th>Period End Date</th>\n",
       "      <th>ESG Combined Score</th>\n",
       "      <th>ESG Score</th>\n",
       "      <th>ESG Controversies Score</th>\n",
       "      <th>Environment Pillar Score</th>\n",
       "      <th>Social Pillar Score</th>\n",
       "      <th>Governance Pillar Score</th>\n",
       "      <th>Resource Use Score</th>\n",
       "      <th>Emissions Score</th>\n",
       "      <th>...</th>\n",
       "      <th>Workforce Score</th>\n",
       "      <th>Human Rights Score</th>\n",
       "      <th>Community Score</th>\n",
       "      <th>Product Responsibility Score</th>\n",
       "      <th>Management Score</th>\n",
       "      <th>Shareholders Score</th>\n",
       "      <th>CSR Strategy Score</th>\n",
       "      <th>ESG Reporting Scope</th>\n",
       "      <th>ESG Report Auditor Name</th>\n",
       "      <th>ESG Period Last Update Date</th>\n",
       "    </tr>\n",
       "  </thead>\n",
       "  <tbody>\n",
       "    <tr>\n",
       "      <th>0</th>\n",
       "      <td>VOD.L</td>\n",
       "      <td>2020-03-31</td>\n",
       "      <td>44.887476</td>\n",
       "      <td>82.016331</td>\n",
       "      <td>7.758621</td>\n",
       "      <td>70.978076</td>\n",
       "      <td>81.669385</td>\n",
       "      <td>90.978733</td>\n",
       "      <td>81.654676</td>\n",
       "      <td>68.283582</td>\n",
       "      <td>...</td>\n",
       "      <td>69.117647</td>\n",
       "      <td>91.935484</td>\n",
       "      <td>63.823529</td>\n",
       "      <td>93.167702</td>\n",
       "      <td>98.995536</td>\n",
       "      <td>65.401786</td>\n",
       "      <td>89.260143</td>\n",
       "      <td>100</td>\n",
       "      <td>Grant Thornton UK LLP</td>\n",
       "      <td>2020-09-18T00:00:00</td>\n",
       "    </tr>\n",
       "    <tr>\n",
       "      <th>1</th>\n",
       "      <td>VOD.L</td>\n",
       "      <td>2019-03-31</td>\n",
       "      <td>46.700175</td>\n",
       "      <td>79.365263</td>\n",
       "      <td>14.035088</td>\n",
       "      <td>73.798478</td>\n",
       "      <td>84.356494</td>\n",
       "      <td>73.622940</td>\n",
       "      <td>88.686131</td>\n",
       "      <td>68.796992</td>\n",
       "      <td>...</td>\n",
       "      <td>78.654971</td>\n",
       "      <td>91.935484</td>\n",
       "      <td>64.619883</td>\n",
       "      <td>93.167702</td>\n",
       "      <td>80.376940</td>\n",
       "      <td>41.241685</td>\n",
       "      <td>88.424821</td>\n",
       "      <td>100</td>\n",
       "      <td>Grant Thornton UK LLP</td>\n",
       "      <td>2020-09-18T00:00:00</td>\n",
       "    </tr>\n",
       "  </tbody>\n",
       "</table>\n",
       "<p>2 rows × 21 columns</p>\n",
       "</div>"
      ],
      "text/plain": [
       "  Instrument Period End Date  ESG Combined Score  ESG Score  \\\n",
       "0      VOD.L      2020-03-31           44.887476  82.016331   \n",
       "1      VOD.L      2019-03-31           46.700175  79.365263   \n",
       "\n",
       "   ESG Controversies Score  Environment Pillar Score  Social Pillar Score  \\\n",
       "0                 7.758621                 70.978076            81.669385   \n",
       "1                14.035088                 73.798478            84.356494   \n",
       "\n",
       "   Governance Pillar Score  Resource Use Score  Emissions Score  ...  \\\n",
       "0                90.978733           81.654676        68.283582  ...   \n",
       "1                73.622940           88.686131        68.796992  ...   \n",
       "\n",
       "   Workforce Score  Human Rights Score  Community Score  \\\n",
       "0        69.117647           91.935484        63.823529   \n",
       "1        78.654971           91.935484        64.619883   \n",
       "\n",
       "   Product Responsibility Score  Management Score  Shareholders Score  \\\n",
       "0                     93.167702         98.995536           65.401786   \n",
       "1                     93.167702         80.376940           41.241685   \n",
       "\n",
       "   CSR Strategy Score  ESG Reporting Scope  ESG Report Auditor Name  \\\n",
       "0           89.260143                  100    Grant Thornton UK LLP   \n",
       "1           88.424821                  100    Grant Thornton UK LLP   \n",
       "\n",
       "  ESG Period Last Update Date  \n",
       "0         2020-09-18T00:00:00  \n",
       "1         2020-09-18T00:00:00  \n",
       "\n",
       "[2 rows x 21 columns]"
      ]
     },
     "execution_count": 45,
     "metadata": {},
     "output_type": "execute_result"
    }
   ],
   "source": [
    "titles = [i[\"title\"] for i in response.data.raw['headers']]\n",
    "esg_df = pd.DataFrame(response.data.raw['data'],columns=titles)\n",
    "\n",
    "esg_df.head(2)"
   ]
  },
  {
   "cell_type": "code",
   "execution_count": 46,
   "metadata": {},
   "outputs": [],
   "source": [
    "esg_sheet = wb.sheets[esg_sheet_title]\n",
    "\n",
    "#Set Sheet Title\n",
    "esg_sheet.range(\"A1\").value = 'VOD.L Environmental, Social and Governance Scores for last 5 years'\n",
    "esg_sheet.range(\"A1\").api.Font.Size = 14 # Change font color\n",
    "esg_sheet.range(\"A1\").api.Font.ColorIndex = 2 # Change font color\n",
    "esg_sheet.range('A1:U1').color = (0,0,255) # Change cell background color"
   ]
  },
  {
   "cell_type": "markdown",
   "metadata": {},
   "source": [
    "The result is following:\n",
    "\n",
    "![Figure-9](images/report_8.png \"set ESG sheet header\") \n",
    "\n",
    "Then we export DataFrame ```esg_df``` object to ESG sheet ```esg_sheet``` object."
   ]
  },
  {
   "cell_type": "code",
   "execution_count": 47,
   "metadata": {},
   "outputs": [],
   "source": [
    "esg_sheet.range(\"A2\").options(index=False).value = esg_df\n",
    "\n",
    "esg_sheet.range('2:1').api.Font.Bold = True\n",
    "esg_sheet.range('A2:U2').color = (144,238,144) # Change cell background color"
   ]
  },
  {
   "cell_type": "markdown",
   "metadata": {},
   "source": [
    "![Figure-10](images/report_9.png \"set ESG report data\") "
   ]
  },
  {
   "cell_type": "markdown",
   "metadata": {},
   "source": [
    "Then we save this excel file with xlwings ```Book``` object ```save()``` function."
   ]
  },
  {
   "cell_type": "code",
   "execution_count": 50,
   "metadata": {
    "scrolled": true
   },
   "outputs": [],
   "source": [
    "wb.save('rdp_report.xlsx') # Classic Jupyter Notebook\n",
    "\n",
    "# wb.save() # Note: Somehow the Jupyter Lab is not allow overriden file as Classic Notebook."
   ]
  },
  {
   "cell_type": "markdown",
   "metadata": {},
   "source": [
    "## Reporting with xlwings PRO\n",
    "\n",
    "The above example source code shows that you can create an excel report file of Refinitiv Data with xlwings CE API pretty easy.\n",
    "\n",
    "However, the Python source code is mixuped between formatting report look & feel and handle data which make the source code hard to maintain and hard to read in the long run.\n",
    "\n",
    "The [xlwings PRO ](https://www.xlwings.org/pro) has features to solve all of CE version limitations. The [xlwings PRO report package](https://www.xlwings.org/reporting) provides a capability to generate excel report file with the following features:\n",
    "- **Separation of code and design**: Users without coding skills can change the template on their own without having to touch the Python code.\n",
    "- **Template variables**: Python variables (between curly braces) can be directly used in cells , e.g. ```{{ title }}```. They act as placeholders that will be replaced by the actual values.\n",
    "- **Frames for dynamic tables**: Frames are vertical containers that dynamically align and style tables that have a variable number of rows.\n",
    "\n",
    "You can get a free trial for xlwings PRO [here](https://www.xlwings.org/pro), then follow instruction in [How to activate xlwings PRO](https://docs.xlwings.org/en/stable/installation.html#how-to-activate-xlwings-pro) page.\n",
    "\n",
    "\n",
    "\n",
    "Now let import the report package from xlwings PRO.\n"
   ]
  },
  {
   "cell_type": "code",
   "execution_count": null,
   "metadata": {
    "scrolled": false
   },
   "outputs": [],
   "source": [
    "# #uncomment if you do not already install xlwings PRO package.\n",
    "\n",
    "# #Install xlwings PRO packages in a current Jupyter kernal\n",
    "#import sys\n",
    "#!{sys.executable} -m pip install \"xlwings[pro]\""
   ]
  },
  {
   "cell_type": "code",
   "execution_count": 29,
   "metadata": {},
   "outputs": [],
   "source": [
    "from xlwings.pro.reports import create_report"
   ]
  },
  {
   "cell_type": "code",
   "execution_count": 30,
   "metadata": {},
   "outputs": [],
   "source": [
    "# Resize figure\n",
    "# fig.set_size_inches(6.4, 4.8)"
   ]
  },
  {
   "cell_type": "markdown",
   "metadata": {},
   "source": [
    "Next, let create an excel template file name *rdp_report_template.xlsx*. \n",
    "\n",
    "![Figure-11](images/report_pro_template_1.png \"pro report template\") \n",
    "\n",
    "This tempalte defines all look and feel (font, color, etc) and also position of auto generated data with varaible inside ```{{``` and ```}}```.\n",
    "\n",
    "Then use the [report-api](https://docs.xlwings.org/en/stable/api.html#reports-api) to generate excel file based on a template file and data with ```create_report()``` function."
   ]
  },
  {
   "cell_type": "code",
   "execution_count": 31,
   "metadata": {},
   "outputs": [],
   "source": [
    "wb = create_report(\n",
    "    'rdp_report_template.xlsx', \n",
    "    'rdp_report_pro.xlsx', \n",
    "    historical_title=historical_title, \n",
    "    df_historical=df_historical.head(10), \n",
    "    graph= fig\n",
    ")"
   ]
  },
  {
   "cell_type": "markdown",
   "metadata": {},
   "source": [
    "![Figure-12](images/report_pro_2.png \"pro report result\") "
   ]
  },
  {
   "cell_type": "markdown",
   "metadata": {},
   "source": [
    "The application does need to interact or hardcode setting cell, sheet and workbook anymore. The xlwings PRO report package automatic replace ```{{ historical_title }}```, ```{{ df_historical }}``` and ```{{graph}}``` variables wtih data that the application pass through report package's ```create_report()``` function.\n",
    "\n",
    "The application can pass text, DataFrame or even Graph to the function and xlwings will generate the excel report file based on the look and feel of template file."
   ]
  },
  {
   "cell_type": "markdown",
   "metadata": {},
   "source": [
    "### Close RDP Session"
   ]
  },
  {
   "cell_type": "code",
   "execution_count": 51,
   "metadata": {},
   "outputs": [
    {
     "name": "stdout",
     "output_type": "stream",
     "text": [
      "State.Closed\n"
     ]
    }
   ],
   "source": [
    "# -- Close Session, just calls close_session() function\n",
    "\n",
    "rdp.close_session()\n",
    "\n",
    "print(session.get_open_state())"
   ]
  },
  {
   "cell_type": "markdown",
   "metadata": {},
   "source": [
    "## Conclusion and Next Step\n",
    "\n",
    "The xlwings CE lets Python developers integrate data with Excel in a simple way. The library is suitable for a wide range of developers from casual coder, data scientists, professional trader to seasoned programmer to work on data analysis and generate report based on their skill. \n",
    "\n",
    "The next part will cover and show how powerful xlwings PRO is when comparing to CE library. Python developers life will be more easier with xlwings PRO.\n",
    "\n",
    "In the same time, the [Refinitiv Data Platform (RDP) Libraries](https://developers.refinitiv.com/refinitiv-data-platform/refinitiv-data-platform-libraries) let developers rapid access Refinitiv Platform content with a few line of code that easy to understand and maintenance. Developers can focus on implement the business logic or analysis data without worry about the connection, authentication detail with the Refinitiv Platforms.\n",
    "\n",
    "The integration between Refinitiv APIs and xlwings is not limited to only RDP Libraries. Any [Refinitiv APIs](https://developers.refinitiv.com/en/api-catalog?i=1;q1=page-type%3Aapi;q2=devportal%3Alanguages~2Fpython;sort=title;sp_c=12;sp_cs=UTF-8;sp_k=devportal-prod;view=xml;x1=w-page-type-id;x2=api-language) that support Python such as [Eikon Data API](https://developers.refinitiv.com/en/api-catalog/eikon/eikon-data-api) ([Eikon Data API-xlwings article](https://developers.refinitiv.com/en/article-catalog/article/financial-reporting-with-eikon-and-excel)), [DataStream API - Python](https://developers.refinitiv.com/en/api-catalog/eikon/datastream-web-service),  [RKD API](https://developers.refinitiv.com/en/api-catalog/refinitiv-knowledge-direct/refinitiv-knowledge-direct-api-rkd-api) can work with xlwings and Excel file using the same concept and code logic as this RDP Library notebook example. \n"
   ]
  },
  {
   "cell_type": "markdown",
   "metadata": {},
   "source": [
    "## References\n",
    "\n",
    "You can find more detail regarding the Refinitiv Data Platform Libraries, xlwings and related technologies for this notebook from the following resources:\n",
    "* [Refinitiv Data Platform (RDP) Libraries](https://developers.refinitiv.com/en/api-catalog/refinitiv-data-platform/refinitiv-data-platform-libraries) on the [Refinitiv Developer Community](https://developers.refinitiv.com/) web site.\n",
    "* [Xlwings web site](https://www.xlwings.org/).\n",
    "* [Financial Reporting with Eikon, xlwings and Excel](https://developers.refinitiv.com/en/article-catalog/article/financial-reporting-with-eikon-and-excel).\n",
    "* [Xlwings API Reference](https://docs.xlwings.org/en/stable/api.html).\n",
    "* [Xlwings Document page](https://docs.xlwings.org/en/stable/).\n",
    "* [RDP Libraries Quick Start Guide page](https://developers.refinitiv.com/en/api-catalog/refinitiv-data-platform/refinitiv-data-platform-libraries/quick-start).\n",
    "* [RDP Libraries Tutorial page](https://developers.refinitiv.com/en/api-catalog/refinitiv-data-platform/refinitiv-data-platform-libraries/tutorials).\n",
    "* [Discover our Refinitiv Data Platform Library (part 1)](https://developers.refinitiv.com/en/article-catalog/article/discover-our-refinitiv-data-platform-library-part-1).\n",
    "* [Discover our Refinitiv Data Platform Library (part 2)](https://developers.refinitiv.com/en/article-catalog/article/discover-our-refinitiv-data-platform-library-part-2).\n",
    "\n",
    "\n",
    "For any question related to this article or Refinitiv Data Platform Libraries, please use the Developers Community [Q&A Forum](https://community.developers.refinitiv.com/spaces/321/refinitiv-data-platform-libraries.html)."
   ]
  },
  {
   "cell_type": "code",
   "execution_count": null,
   "metadata": {},
   "outputs": [],
   "source": []
  }
 ],
 "metadata": {
  "kernelspec": {
   "display_name": "Python 3",
   "language": "python",
   "name": "python3"
  },
  "language_info": {
   "codemirror_mode": {
    "name": "ipython",
    "version": 3
   },
   "file_extension": ".py",
   "mimetype": "text/x-python",
   "name": "python",
   "nbconvert_exporter": "python",
   "pygments_lexer": "ipython3",
   "version": "3.7.9"
  }
 },
 "nbformat": 4,
 "nbformat_minor": 4
}
